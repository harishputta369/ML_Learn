{
 "cells": [
  {
   "cell_type": "markdown",
   "id": "74f72e9d",
   "metadata": {},
   "source": [
    "# ML"
   ]
  },
  {
   "cell_type": "markdown",
   "id": "eba552fd",
   "metadata": {},
   "source": [
    "## Leaner Regression Example1"
   ]
  },
  {
   "cell_type": "code",
   "execution_count": 1,
   "id": "f2c01b86",
   "metadata": {},
   "outputs": [
    {
     "name": "stdout",
     "output_type": "stream",
     "text": [
      "Defaulting to user installation because normal site-packages is not writeable\n",
      "Requirement already satisfied: seaborn in c:\\programdata\\anaconda3\\lib\\site-packages (0.11.2)\n",
      "Requirement already satisfied: numpy>=1.15 in c:\\programdata\\anaconda3\\lib\\site-packages (from seaborn) (1.21.5)\n",
      "Requirement already satisfied: scipy>=1.0 in c:\\programdata\\anaconda3\\lib\\site-packages (from seaborn) (1.7.3)\n",
      "Requirement already satisfied: matplotlib>=2.2 in c:\\programdata\\anaconda3\\lib\\site-packages (from seaborn) (3.5.1)\n",
      "Requirement already satisfied: pandas>=0.23 in c:\\programdata\\anaconda3\\lib\\site-packages (from seaborn) (1.4.2)\n",
      "Requirement already satisfied: packaging>=20.0 in c:\\programdata\\anaconda3\\lib\\site-packages (from matplotlib>=2.2->seaborn) (21.3)\n",
      "Requirement already satisfied: fonttools>=4.22.0 in c:\\programdata\\anaconda3\\lib\\site-packages (from matplotlib>=2.2->seaborn) (4.25.0)\n",
      "Requirement already satisfied: pillow>=6.2.0 in c:\\programdata\\anaconda3\\lib\\site-packages (from matplotlib>=2.2->seaborn) (9.0.1)\n",
      "Requirement already satisfied: cycler>=0.10 in c:\\programdata\\anaconda3\\lib\\site-packages (from matplotlib>=2.2->seaborn) (0.11.0)\n",
      "Requirement already satisfied: pyparsing>=2.2.1 in c:\\programdata\\anaconda3\\lib\\site-packages (from matplotlib>=2.2->seaborn) (3.0.4)\n",
      "Requirement already satisfied: python-dateutil>=2.7 in c:\\programdata\\anaconda3\\lib\\site-packages (from matplotlib>=2.2->seaborn) (2.8.2)\n",
      "Requirement already satisfied: kiwisolver>=1.0.1 in c:\\programdata\\anaconda3\\lib\\site-packages (from matplotlib>=2.2->seaborn) (1.3.2)\n",
      "Requirement already satisfied: pytz>=2020.1 in c:\\programdata\\anaconda3\\lib\\site-packages (from pandas>=0.23->seaborn) (2021.3)\n",
      "Requirement already satisfied: six>=1.5 in c:\\programdata\\anaconda3\\lib\\site-packages (from python-dateutil>=2.7->matplotlib>=2.2->seaborn) (1.16.0)\n"
     ]
    }
   ],
   "source": [
    "!pip install seaborn"
   ]
  },
  {
   "cell_type": "markdown",
   "id": "1e1c6a2c",
   "metadata": {},
   "source": [
    "## seaborn installation for ml graphs"
   ]
  },
  {
   "cell_type": "code",
   "execution_count": 2,
   "id": "70bfb029",
   "metadata": {},
   "outputs": [
    {
     "name": "stdout",
     "output_type": "stream",
     "text": [
      "Defaulting to user installation because normal site-packages is not writeable\n",
      "Requirement already satisfied: scikit-learn in c:\\programdata\\anaconda3\\lib\\site-packages (1.0.2)\n",
      "Requirement already satisfied: numpy>=1.14.6 in c:\\programdata\\anaconda3\\lib\\site-packages (from scikit-learn) (1.21.5)\n",
      "Requirement already satisfied: threadpoolctl>=2.0.0 in c:\\programdata\\anaconda3\\lib\\site-packages (from scikit-learn) (2.2.0)\n",
      "Requirement already satisfied: joblib>=0.11 in c:\\programdata\\anaconda3\\lib\\site-packages (from scikit-learn) (1.1.0)\n",
      "Requirement already satisfied: scipy>=1.1.0 in c:\\programdata\\anaconda3\\lib\\site-packages (from scikit-learn) (1.7.3)\n"
     ]
    }
   ],
   "source": [
    "!pip install scikit-learn"
   ]
  },
  {
   "cell_type": "markdown",
   "id": "1db6b340",
   "metadata": {},
   "source": [
    "## scikit-learn used for ml tasks"
   ]
  },
  {
   "cell_type": "code",
   "execution_count": 5,
   "id": "a9d00a39",
   "metadata": {},
   "outputs": [],
   "source": [
    "import pandas as pd\n",
    "import numpy as np\n",
    "import matplotlib.pyplot as plt\n",
    "import seaborn as sns"
   ]
  },
  {
   "cell_type": "code",
   "execution_count": 30,
   "id": "3b18b16c",
   "metadata": {
    "scrolled": true
   },
   "outputs": [
    {
     "data": {
      "text/html": [
       "<div>\n",
       "<style scoped>\n",
       "    .dataframe tbody tr th:only-of-type {\n",
       "        vertical-align: middle;\n",
       "    }\n",
       "\n",
       "    .dataframe tbody tr th {\n",
       "        vertical-align: top;\n",
       "    }\n",
       "\n",
       "    .dataframe thead th {\n",
       "        text-align: right;\n",
       "    }\n",
       "</style>\n",
       "<table border=\"1\" class=\"dataframe\">\n",
       "  <thead>\n",
       "    <tr style=\"text-align: right;\">\n",
       "      <th></th>\n",
       "      <th>brand</th>\n",
       "      <th>laptop_name</th>\n",
       "      <th>display_size</th>\n",
       "      <th>processor_type</th>\n",
       "      <th>graphics_card</th>\n",
       "      <th>disk_space</th>\n",
       "      <th>discount_price</th>\n",
       "      <th>old_price</th>\n",
       "      <th>ratings_5max</th>\n",
       "    </tr>\n",
       "  </thead>\n",
       "  <tbody>\n",
       "    <tr>\n",
       "      <th>0</th>\n",
       "      <td>HP</td>\n",
       "      <td>Notebook 14-df0008nx</td>\n",
       "      <td>14.0</td>\n",
       "      <td>Intel Celeron N4000</td>\n",
       "      <td>Intel HD Graphics 600</td>\n",
       "      <td>64 GB (eMMC)</td>\n",
       "      <td>1259.0</td>\n",
       "      <td>1259.0</td>\n",
       "      <td>0 / 5</td>\n",
       "    </tr>\n",
       "    <tr>\n",
       "      <th>1</th>\n",
       "      <td>Lenovo</td>\n",
       "      <td>IdeaPad 330S-14IKB</td>\n",
       "      <td>14.0</td>\n",
       "      <td>Intel Core i5-8250U</td>\n",
       "      <td>Intel UHD Graphics 620</td>\n",
       "      <td>1 TB HDD</td>\n",
       "      <td>1849.0</td>\n",
       "      <td>2099.0</td>\n",
       "      <td>3.3 / 5</td>\n",
       "    </tr>\n",
       "    <tr>\n",
       "      <th>2</th>\n",
       "      <td>Huawei</td>\n",
       "      <td>MateBook D Volta</td>\n",
       "      <td>14.0</td>\n",
       "      <td>Intel Core i5-8250U</td>\n",
       "      <td>NVIDIA GeForce MX150 (2 GB)</td>\n",
       "      <td>256 GB SSD</td>\n",
       "      <td>2999.0</td>\n",
       "      <td>3799.0</td>\n",
       "      <td>0 / 5</td>\n",
       "    </tr>\n",
       "    <tr>\n",
       "      <th>3</th>\n",
       "      <td>Dell</td>\n",
       "      <td>Inspiron 15 3567</td>\n",
       "      <td>15.6</td>\n",
       "      <td>Intel Core i3-7020U</td>\n",
       "      <td>Intel HD Graphics 620</td>\n",
       "      <td>1 TB HDD</td>\n",
       "      <td>1849.0</td>\n",
       "      <td>1849.0</td>\n",
       "      <td>0 / 5</td>\n",
       "    </tr>\n",
       "    <tr>\n",
       "      <th>4</th>\n",
       "      <td>Asus</td>\n",
       "      <td>VivoBook 15 X510UR</td>\n",
       "      <td>15.6</td>\n",
       "      <td>Intel Core i7-8550U</td>\n",
       "      <td>NVIDIA GeForce 930MX (2 GB)</td>\n",
       "      <td>1 TB HDD</td>\n",
       "      <td>2499.0</td>\n",
       "      <td>3149.0</td>\n",
       "      <td>0 / 5</td>\n",
       "    </tr>\n",
       "  </tbody>\n",
       "</table>\n",
       "</div>"
      ],
      "text/plain": [
       "    brand           laptop_name  display_size        processor_type  \\\n",
       "0      HP  Notebook 14-df0008nx          14.0   Intel Celeron N4000   \n",
       "1  Lenovo    IdeaPad 330S-14IKB          14.0   Intel Core i5-8250U   \n",
       "2  Huawei      MateBook D Volta          14.0   Intel Core i5-8250U   \n",
       "3    Dell      Inspiron 15 3567          15.6   Intel Core i3-7020U   \n",
       "4    Asus    VivoBook 15 X510UR          15.6   Intel Core i7-8550U   \n",
       "\n",
       "                  graphics_card     disk_space  discount_price  old_price  \\\n",
       "0         Intel HD Graphics 600   64 GB (eMMC)          1259.0     1259.0   \n",
       "1        Intel UHD Graphics 620       1 TB HDD          1849.0     2099.0   \n",
       "2   NVIDIA GeForce MX150 (2 GB)     256 GB SSD          2999.0     3799.0   \n",
       "3         Intel HD Graphics 620       1 TB HDD          1849.0     1849.0   \n",
       "4   NVIDIA GeForce 930MX (2 GB)       1 TB HDD          2499.0     3149.0   \n",
       "\n",
       "  ratings_5max  \n",
       "0        0 / 5  \n",
       "1      3.3 / 5  \n",
       "2        0 / 5  \n",
       "3        0 / 5  \n",
       "4        0 / 5  "
      ]
     },
     "execution_count": 30,
     "metadata": {},
     "output_type": "execute_result"
    }
   ],
   "source": [
    "v_laptop_data = pd.read_csv('Documents/DA1/Datasets/Final_Dataframe.csv', encoding='ISO-8859-1')\n",
    "v_laptop_data.head()"
   ]
  },
  {
   "cell_type": "markdown",
   "id": "57a962dc",
   "metadata": {},
   "source": [
    "## path from correcnt working dr"
   ]
  },
  {
   "cell_type": "code",
   "execution_count": 19,
   "id": "8d3ed151",
   "metadata": {},
   "outputs": [
    {
     "name": "stdout",
     "output_type": "stream",
     "text": [
      "C:\\Users\\haris\n"
     ]
    }
   ],
   "source": [
    "%cd"
   ]
  },
  {
   "cell_type": "code",
   "execution_count": 31,
   "id": "b27a28ac",
   "metadata": {},
   "outputs": [
    {
     "data": {
      "text/plain": [
       "(205, 9)"
      ]
     },
     "execution_count": 31,
     "metadata": {},
     "output_type": "execute_result"
    }
   ],
   "source": [
    "v_laptop_data.shape"
   ]
  },
  {
   "cell_type": "code",
   "execution_count": 32,
   "id": "ee359f84",
   "metadata": {},
   "outputs": [],
   "source": [
    "v_laptop_data.drop(['ratings_5max'],inplace=True, axis=1)"
   ]
  },
  {
   "cell_type": "code",
   "execution_count": 33,
   "id": "e5b916f7",
   "metadata": {},
   "outputs": [
    {
     "data": {
      "text/plain": [
       "(205, 8)"
      ]
     },
     "execution_count": 33,
     "metadata": {},
     "output_type": "execute_result"
    }
   ],
   "source": [
    "v_laptop_data.shape"
   ]
  },
  {
   "cell_type": "code",
   "execution_count": 28,
   "id": "c0ad13dd",
   "metadata": {},
   "outputs": [
    {
     "data": {
      "text/html": [
       "<div>\n",
       "<style scoped>\n",
       "    .dataframe tbody tr th:only-of-type {\n",
       "        vertical-align: middle;\n",
       "    }\n",
       "\n",
       "    .dataframe tbody tr th {\n",
       "        vertical-align: top;\n",
       "    }\n",
       "\n",
       "    .dataframe thead th {\n",
       "        text-align: right;\n",
       "    }\n",
       "</style>\n",
       "<table border=\"1\" class=\"dataframe\">\n",
       "  <thead>\n",
       "    <tr style=\"text-align: right;\">\n",
       "      <th></th>\n",
       "      <th>laptop_name</th>\n",
       "      <th>display_size</th>\n",
       "      <th>processor_type</th>\n",
       "      <th>graphics_card</th>\n",
       "      <th>disk_space</th>\n",
       "      <th>discount_price</th>\n",
       "      <th>old_price</th>\n",
       "    </tr>\n",
       "    <tr>\n",
       "      <th>brand</th>\n",
       "      <th></th>\n",
       "      <th></th>\n",
       "      <th></th>\n",
       "      <th></th>\n",
       "      <th></th>\n",
       "      <th></th>\n",
       "      <th></th>\n",
       "    </tr>\n",
       "  </thead>\n",
       "  <tbody>\n",
       "    <tr>\n",
       "      <th>Lenovo</th>\n",
       "      <td>IdeaPad S340</td>\n",
       "      <td>14.0</td>\n",
       "      <td>Intel Core i5-8265U</td>\n",
       "      <td>Intel GMA HD</td>\n",
       "      <td>1 TB HDD</td>\n",
       "      <td>1849.0</td>\n",
       "      <td>2099.0</td>\n",
       "    </tr>\n",
       "    <tr>\n",
       "      <th>Dell</th>\n",
       "      <td>Inspiron 15 3567</td>\n",
       "      <td>15.6</td>\n",
       "      <td>Intel Core i3-7020U</td>\n",
       "      <td>Intel HD Graphics 620</td>\n",
       "      <td>1 TB HDD</td>\n",
       "      <td>1849.0</td>\n",
       "      <td>1849.0</td>\n",
       "    </tr>\n",
       "    <tr>\n",
       "      <th>Asus</th>\n",
       "      <td>ZenBook S13 UX392FN</td>\n",
       "      <td>13.9</td>\n",
       "      <td>Intel Core i7-8565U</td>\n",
       "      <td>NVIDIA GeForce MX150 (2 GB)</td>\n",
       "      <td>1 TB PCIe NVMe M.2 SSD</td>\n",
       "      <td>6999.0</td>\n",
       "      <td>6999.0</td>\n",
       "    </tr>\n",
       "    <tr>\n",
       "      <th>Acer</th>\n",
       "      <td>Aspire A315-51</td>\n",
       "      <td>15.6</td>\n",
       "      <td>Intel Core i3-6006U</td>\n",
       "      <td>Intel HD Graphics 520</td>\n",
       "      <td>500 GB HDD</td>\n",
       "      <td>1649.0</td>\n",
       "      <td>1649.0</td>\n",
       "    </tr>\n",
       "    <tr>\n",
       "      <th>Apple</th>\n",
       "      <td>MacBook Air (Retina)</td>\n",
       "      <td>13.3</td>\n",
       "      <td>Intel Core i5 Dual Core</td>\n",
       "      <td>Intel UHD Graphics 617</td>\n",
       "      <td>128 GB (PCIe SSD)</td>\n",
       "      <td>4649.0</td>\n",
       "      <td>5199.0</td>\n",
       "    </tr>\n",
       "    <tr>\n",
       "      <th>Huawei</th>\n",
       "      <td>MateBook D</td>\n",
       "      <td>15.6</td>\n",
       "      <td>Intel Core i5-8250U</td>\n",
       "      <td>NVIDIA GeForce MX150 (2 GB)</td>\n",
       "      <td>128 GB SSD/1 TB HDD</td>\n",
       "      <td>2449.0</td>\n",
       "      <td>2799.0</td>\n",
       "    </tr>\n",
       "    <tr>\n",
       "      <th>MSI</th>\n",
       "      <td>GT83VR 7RF Titan SLI</td>\n",
       "      <td>18.4</td>\n",
       "      <td>Intel Core i7-7820HK</td>\n",
       "      <td>NVIDIA GeForce GTX 1080 (8 GB) SLI</td>\n",
       "      <td>256 GB SSD (Super Raid)/1 TB HDD</td>\n",
       "      <td>9071.0</td>\n",
       "      <td>9071.0</td>\n",
       "    </tr>\n",
       "    <tr>\n",
       "      <th>HP</th>\n",
       "      <td>ENVY 13-ad001nx</td>\n",
       "      <td>13.3</td>\n",
       "      <td>Intel Core i5-7200U</td>\n",
       "      <td>Intel Graphics 620</td>\n",
       "      <td>256 GB PCIe NVMe M.2 SSD</td>\n",
       "      <td>3989.0</td>\n",
       "      <td>3989.0</td>\n",
       "    </tr>\n",
       "    <tr>\n",
       "      <th>Acer</th>\n",
       "      <td>Aspire 5 A515-51G</td>\n",
       "      <td>15.6</td>\n",
       "      <td>Intel Core i7-8550U</td>\n",
       "      <td>NVIDIA GeForce MX130 (2 GB)</td>\n",
       "      <td>2 TB HDD</td>\n",
       "      <td>2999.0</td>\n",
       "      <td>2999.0</td>\n",
       "    </tr>\n",
       "    <tr>\n",
       "      <th>Asus</th>\n",
       "      <td>X507UB</td>\n",
       "      <td>15.6</td>\n",
       "      <td>Intel Core i5-8250U</td>\n",
       "      <td>NVIDIA GeForce MX110 (2 GB)</td>\n",
       "      <td>1 TB HDD</td>\n",
       "      <td>1999.0</td>\n",
       "      <td>2449.0</td>\n",
       "    </tr>\n",
       "  </tbody>\n",
       "</table>\n",
       "</div>"
      ],
      "text/plain": [
       "                 laptop_name  display_size            processor_type  \\\n",
       "brand                                                                  \n",
       "Lenovo          IdeaPad S340          14.0       Intel Core i5-8265U   \n",
       "Dell        Inspiron 15 3567          15.6       Intel Core i3-7020U   \n",
       "Asus     ZenBook S13 UX392FN          13.9       Intel Core i7-8565U   \n",
       "Acer          Aspire A315-51          15.6       Intel Core i3-6006U   \n",
       "Apple   MacBook Air (Retina)          13.3   Intel Core i5 Dual Core   \n",
       "Huawei            MateBook D          15.6       Intel Core i5-8250U   \n",
       "MSI     GT83VR 7RF Titan SLI          18.4      Intel Core i7-7820HK   \n",
       "HP           ENVY 13-ad001nx          13.3       Intel Core i5-7200U   \n",
       "Acer       Aspire 5 A515-51G          15.6       Intel Core i7-8550U   \n",
       "Asus                  X507UB          15.6       Intel Core i5-8250U   \n",
       "\n",
       "                              graphics_card  \\\n",
       "brand                                         \n",
       "Lenovo                         Intel GMA HD   \n",
       "Dell                  Intel HD Graphics 620   \n",
       "Asus            NVIDIA GeForce MX150 (2 GB)   \n",
       "Acer                  Intel HD Graphics 520   \n",
       "Apple                Intel UHD Graphics 617   \n",
       "Huawei          NVIDIA GeForce MX150 (2 GB)   \n",
       "MSI      NVIDIA GeForce GTX 1080 (8 GB) SLI   \n",
       "HP                       Intel Graphics 620   \n",
       "Acer            NVIDIA GeForce MX130 (2 GB)   \n",
       "Asus            NVIDIA GeForce MX110 (2 GB)   \n",
       "\n",
       "                               disk_space  discount_price  old_price  \n",
       "brand                                                                 \n",
       "Lenovo                           1 TB HDD          1849.0     2099.0  \n",
       "Dell                             1 TB HDD          1849.0     1849.0  \n",
       "Asus               1 TB PCIe NVMe M.2 SSD          6999.0     6999.0  \n",
       "Acer                           500 GB HDD          1649.0     1649.0  \n",
       "Apple                   128 GB (PCIe SSD)          4649.0     5199.0  \n",
       "Huawei                128 GB SSD/1 TB HDD          2449.0     2799.0  \n",
       "MSI      256 GB SSD (Super Raid)/1 TB HDD          9071.0     9071.0  \n",
       "HP               256 GB PCIe NVMe M.2 SSD          3989.0     3989.0  \n",
       "Acer                             2 TB HDD          2999.0     2999.0  \n",
       "Asus                             1 TB HDD          1999.0     2449.0  "
      ]
     },
     "execution_count": 28,
     "metadata": {},
     "output_type": "execute_result"
    }
   ],
   "source": [
    "v_laptop_data.sample(10)"
   ]
  },
  {
   "cell_type": "code",
   "execution_count": 34,
   "id": "15d810b8",
   "metadata": {},
   "outputs": [
    {
     "data": {
      "text/plain": [
       "array(['HP', 'Lenovo', 'Huawei', 'Dell', 'Asus', 'Apple', 'Acer',\n",
       "       'Microsoft', 'MSI'], dtype=object)"
      ]
     },
     "execution_count": 34,
     "metadata": {},
     "output_type": "execute_result"
    }
   ],
   "source": [
    "v_laptop_data['brand'].unique()"
   ]
  },
  {
   "cell_type": "code",
   "execution_count": 35,
   "id": "d53514c1",
   "metadata": {},
   "outputs": [
    {
     "data": {
      "text/plain": [
       "HP           48\n",
       "Apple        38\n",
       "Dell         34\n",
       "Acer         24\n",
       "Lenovo       23\n",
       "Asus         22\n",
       "Huawei       12\n",
       "Microsoft     3\n",
       "MSI           1\n",
       "Name: brand, dtype: int64"
      ]
     },
     "execution_count": 35,
     "metadata": {},
     "output_type": "execute_result"
    }
   ],
   "source": [
    "v_laptop_data['brand'].value_counts()"
   ]
  },
  {
   "cell_type": "code",
   "execution_count": 36,
   "id": "00b2796d",
   "metadata": {},
   "outputs": [
    {
     "data": {
      "text/plain": [
       "HP           48\n",
       "Apple        38\n",
       "Dell         34\n",
       "Acer         24\n",
       "Lenovo       23\n",
       "Asus         22\n",
       "Huawei       12\n",
       "Microsoft     3\n",
       "MSI           1\n",
       "Name: brand, dtype: int64"
      ]
     },
     "execution_count": 36,
     "metadata": {},
     "output_type": "execute_result"
    }
   ],
   "source": [
    "v_laptop_data.brand.value_counts()"
   ]
  },
  {
   "cell_type": "code",
   "execution_count": 37,
   "id": "bf24d2ae",
   "metadata": {},
   "outputs": [
    {
     "data": {
      "image/png": "[encoded data removed]",
      "text/plain": [
       "<Figure size 1152x576 with 1 Axes>"
      ]
     },
     "metadata": {
      "needs_background": "light"
     },
     "output_type": "display_data"
    }
   ],
   "source": [
    "plt.figure(figsize=(16,8))\n",
    "v_laptop_data['brand'].value_counts().plot(kind='bar')\n",
    "plt.title('No of laptops form brand display size', fontsize=15)\n",
    "plt.xlabel('brand',fontsize=12)\n",
    "plt.ylabel('display_size',fontsize=12)\n",
    "plt.show()\n"
   ]
  },
  {
   "cell_type": "code",
   "execution_count": 38,
   "id": "750fe5a4",
   "metadata": {},
   "outputs": [
    {
     "data": {
      "image/png": "[encoded data removed]",
      "text/plain": [
       "<Figure size 1080x576 with 1 Axes>"
      ]
     },
     "metadata": {
      "needs_background": "light"
     },
     "output_type": "display_data"
    }
   ],
   "source": [
    "plt.figure(figsize=(15,8))\n",
    "v_laptop_data['brand'].value_counts().plot(kind='bar')\n",
    "plt.title('Graphe Title',fontsize=15)\n",
    "plt.xlabel('brand',fontsize=13)\n",
    "plt.ylabel('disk_space',fontsize=13)\n",
    "plt.show()"
   ]
  },
  {
   "cell_type": "code",
   "execution_count": 39,
   "id": "f3a68155",
   "metadata": {},
   "outputs": [
    {
     "data": {
      "text/plain": [
       "<AxesSubplot:>"
      ]
     },
     "execution_count": 39,
     "metadata": {},
     "output_type": "execute_result"
    },
    {
     "data": {
      "image/png": "[encoded data removed]",
      "text/plain": [
       "<Figure size 864x576 with 1 Axes>"
      ]
     },
     "metadata": {
      "needs_background": "light"
     },
     "output_type": "display_data"
    }
   ],
   "source": [
    "plt.figure(figsize=(12,8))\n",
    "v_laptop_data[['display_size']].boxplot()"
   ]
  },
  {
   "cell_type": "code",
   "execution_count": 40,
   "id": "35e3b4d2",
   "metadata": {},
   "outputs": [
    {
     "data": {
      "text/plain": [
       "<AxesSubplot:>"
      ]
     },
     "execution_count": 40,
     "metadata": {},
     "output_type": "execute_result"
    },
    {
     "data": {
      "image/png": "[encoded data removed]",
      "text/plain": [
       "<Figure size 864x576 with 1 Axes>"
      ]
     },
     "metadata": {
      "needs_background": "light"
     },
     "output_type": "display_data"
    }
   ],
   "source": [
    "plt.figure(figsize=(12,8))\n",
    "v_laptop_data[['discount_price']].boxplot()"
   ]
  },
  {
   "cell_type": "markdown",
   "id": "7a317b0c",
   "metadata": {},
   "source": [
    "## Note : BOX plot only works with the column which have numeric content init not varchar"
   ]
  },
  {
   "cell_type": "markdown",
   "id": "2cc78bbe",
   "metadata": {},
   "source": [
    "## SEABORN graphs"
   ]
  },
  {
   "cell_type": "code",
   "execution_count": 41,
   "id": "a951c1f0",
   "metadata": {},
   "outputs": [
    {
     "data": {
      "text/plain": [
       "<function matplotlib.pyplot.show(close=None, block=None)>"
      ]
     },
     "execution_count": 41,
     "metadata": {},
     "output_type": "execute_result"
    },
    {
     "data": {
      "image/png": "[encoded data removed]",
      "text/plain": [
       "<Figure size 1152x720 with 1 Axes>"
      ]
     },
     "metadata": {
      "needs_background": "light"
     },
     "output_type": "display_data"
    }
   ],
   "source": [
    "plt.figure(figsize=(16,10))\n",
    "sns.swarmplot(x='brand',y='old_price',data= v_laptop_data)\n",
    "plt.title('Seaborn Graph price sutribution brand vs price',fontsize=15)\n",
    "plt.xlabel('Company',fontsize=15)\n",
    "plt.ylabel('Price in rupees/dollers', fontsize=15)\n",
    "plt.show"
   ]
  },
  {
   "cell_type": "markdown",
   "id": "10ebdc0e",
   "metadata": {},
   "source": [
    "### Leaner Regression"
   ]
  },
  {
   "cell_type": "markdown",
   "id": "48ed444f",
   "metadata": {},
   "source": [
    "#### label encoding ( converting varchar to numeric values for better anlasis )"
   ]
  },
  {
   "cell_type": "code",
   "execution_count": 43,
   "id": "92ff8c27",
   "metadata": {},
   "outputs": [],
   "source": [
    "from sklearn.preprocessing import LabelEncoder\n",
    "label_encoder = LabelEncoder()\n",
    "v_laptop_data['discount_price']=label_encoder.fit_transform(v_laptop_data['discount_price'])"
   ]
  },
  {
   "cell_type": "code",
   "execution_count": 44,
   "id": "813d9d96",
   "metadata": {},
   "outputs": [
    {
     "data": {
      "text/html": [
       "<div>\n",
       "<style scoped>\n",
       "    .dataframe tbody tr th:only-of-type {\n",
       "        vertical-align: middle;\n",
       "    }\n",
       "\n",
       "    .dataframe tbody tr th {\n",
       "        vertical-align: top;\n",
       "    }\n",
       "\n",
       "    .dataframe thead th {\n",
       "        text-align: right;\n",
       "    }\n",
       "</style>\n",
       "<table border=\"1\" class=\"dataframe\">\n",
       "  <thead>\n",
       "    <tr style=\"text-align: right;\">\n",
       "      <th></th>\n",
       "      <th>brand</th>\n",
       "      <th>laptop_name</th>\n",
       "      <th>display_size</th>\n",
       "      <th>processor_type</th>\n",
       "      <th>graphics_card</th>\n",
       "      <th>disk_space</th>\n",
       "      <th>discount_price</th>\n",
       "      <th>old_price</th>\n",
       "    </tr>\n",
       "  </thead>\n",
       "  <tbody>\n",
       "    <tr>\n",
       "      <th>44</th>\n",
       "      <td>Huawei</td>\n",
       "      <td>MateBook D</td>\n",
       "      <td>15.6</td>\n",
       "      <td>Intel Core i7-8550U</td>\n",
       "      <td>NVIDIA GeForce MX150 (2 GB)</td>\n",
       "      <td>128 GB SSD/1 TB HDD</td>\n",
       "      <td>51</td>\n",
       "      <td>3299.0</td>\n",
       "    </tr>\n",
       "    <tr>\n",
       "      <th>28</th>\n",
       "      <td>Huawei</td>\n",
       "      <td>MateBook D Volta</td>\n",
       "      <td>14.0</td>\n",
       "      <td>Intel Core i7-8550U</td>\n",
       "      <td>NVIDIA GeForce MX150 (2 GB)</td>\n",
       "      <td>256 GB SSD</td>\n",
       "      <td>65</td>\n",
       "      <td>4199.0</td>\n",
       "    </tr>\n",
       "    <tr>\n",
       "      <th>13</th>\n",
       "      <td>Acer</td>\n",
       "      <td>Swift 5 SF514-52TP-8933</td>\n",
       "      <td>14.0</td>\n",
       "      <td>Intel Core i7-8550U</td>\n",
       "      <td>Intel UHD Graphics 620</td>\n",
       "      <td>512 GB SSD</td>\n",
       "      <td>85</td>\n",
       "      <td>5999.0</td>\n",
       "    </tr>\n",
       "    <tr>\n",
       "      <th>110</th>\n",
       "      <td>HP</td>\n",
       "      <td>ENVY 13-ah0006nx</td>\n",
       "      <td>13.3</td>\n",
       "      <td>Intel Core i7-8550U</td>\n",
       "      <td>NVIDIA GeForce MX150 (2 GB)</td>\n",
       "      <td>512 GB PCIe NVMe M.2 SSD</td>\n",
       "      <td>86</td>\n",
       "      <td>4939.0</td>\n",
       "    </tr>\n",
       "    <tr>\n",
       "      <th>192</th>\n",
       "      <td>Dell</td>\n",
       "      <td>Inspiron 15 3567</td>\n",
       "      <td>15.6</td>\n",
       "      <td>Intel Core i5-7200U</td>\n",
       "      <td>AMD Radeon R5-M340 (2 GB)</td>\n",
       "      <td>1 TB HDD</td>\n",
       "      <td>40</td>\n",
       "      <td>2469.0</td>\n",
       "    </tr>\n",
       "    <tr>\n",
       "      <th>74</th>\n",
       "      <td>Lenovo</td>\n",
       "      <td>IdeaPad S130-14IGM</td>\n",
       "      <td>14.0</td>\n",
       "      <td>Intel Celeron N4000</td>\n",
       "      <td>Intel UHD Graphics 600</td>\n",
       "      <td>64 GB (eMMC)</td>\n",
       "      <td>0</td>\n",
       "      <td>1099.0</td>\n",
       "    </tr>\n",
       "    <tr>\n",
       "      <th>171</th>\n",
       "      <td>Lenovo</td>\n",
       "      <td>IdeaPad 320-15IKBRA</td>\n",
       "      <td>15.6</td>\n",
       "      <td>Intel Core i7-8550U</td>\n",
       "      <td>AMD Radeon 530 (4 GB)</td>\n",
       "      <td>2 TB HDD</td>\n",
       "      <td>58</td>\n",
       "      <td>3149.0</td>\n",
       "    </tr>\n",
       "    <tr>\n",
       "      <th>63</th>\n",
       "      <td>Dell</td>\n",
       "      <td>Inspiron 15 3580</td>\n",
       "      <td>15.6</td>\n",
       "      <td>Intel Core i5-8265U</td>\n",
       "      <td>AMD Radeon 520 (2 GB)</td>\n",
       "      <td>1 TB HDD</td>\n",
       "      <td>33</td>\n",
       "      <td>2449.0</td>\n",
       "    </tr>\n",
       "    <tr>\n",
       "      <th>72</th>\n",
       "      <td>Acer</td>\n",
       "      <td>Aspire 3 A315-53G</td>\n",
       "      <td>15.6</td>\n",
       "      <td>Intel Core i5-8250U</td>\n",
       "      <td>NVIDIA GeForce MX130 (2 GB)</td>\n",
       "      <td>1 TB HDD</td>\n",
       "      <td>35</td>\n",
       "      <td>2499.0</td>\n",
       "    </tr>\n",
       "    <tr>\n",
       "      <th>83</th>\n",
       "      <td>Asus</td>\n",
       "      <td>X543MA</td>\n",
       "      <td>15.6</td>\n",
       "      <td>Intel Celeron N4000</td>\n",
       "      <td>Intel UHD Graphics 600</td>\n",
       "      <td>1 TB HDD</td>\n",
       "      <td>4</td>\n",
       "      <td>1249.0</td>\n",
       "    </tr>\n",
       "  </tbody>\n",
       "</table>\n",
       "</div>"
      ],
      "text/plain": [
       "      brand              laptop_name  display_size        processor_type  \\\n",
       "44   Huawei               MateBook D          15.6   Intel Core i7-8550U   \n",
       "28   Huawei         MateBook D Volta          14.0   Intel Core i7-8550U   \n",
       "13     Acer  Swift 5 SF514-52TP-8933          14.0   Intel Core i7-8550U   \n",
       "110      HP         ENVY 13-ah0006nx          13.3   Intel Core i7-8550U   \n",
       "192    Dell         Inspiron 15 3567          15.6   Intel Core i5-7200U   \n",
       "74   Lenovo       IdeaPad S130-14IGM          14.0   Intel Celeron N4000   \n",
       "171  Lenovo      IdeaPad 320-15IKBRA          15.6   Intel Core i7-8550U   \n",
       "63     Dell         Inspiron 15 3580          15.6   Intel Core i5-8265U   \n",
       "72     Acer        Aspire 3 A315-53G          15.6   Intel Core i5-8250U   \n",
       "83     Asus                   X543MA          15.6   Intel Celeron N4000   \n",
       "\n",
       "                    graphics_card                 disk_space  discount_price  \\\n",
       "44    NVIDIA GeForce MX150 (2 GB)        128 GB SSD/1 TB HDD              51   \n",
       "28    NVIDIA GeForce MX150 (2 GB)                 256 GB SSD              65   \n",
       "13         Intel UHD Graphics 620                 512 GB SSD              85   \n",
       "110   NVIDIA GeForce MX150 (2 GB)   512 GB PCIe NVMe M.2 SSD              86   \n",
       "192     AMD Radeon R5-M340 (2 GB)                   1 TB HDD              40   \n",
       "74         Intel UHD Graphics 600               64 GB (eMMC)               0   \n",
       "171         AMD Radeon 530 (4 GB)                   2 TB HDD              58   \n",
       "63          AMD Radeon 520 (2 GB)                   1 TB HDD              33   \n",
       "72    NVIDIA GeForce MX130 (2 GB)                   1 TB HDD              35   \n",
       "83         Intel UHD Graphics 600                   1 TB HDD               4   \n",
       "\n",
       "     old_price  \n",
       "44      3299.0  \n",
       "28      4199.0  \n",
       "13      5999.0  \n",
       "110     4939.0  \n",
       "192     2469.0  \n",
       "74      1099.0  \n",
       "171     3149.0  \n",
       "63      2449.0  \n",
       "72      2499.0  \n",
       "83      1249.0  "
      ]
     },
     "execution_count": 44,
     "metadata": {},
     "output_type": "execute_result"
    }
   ],
   "source": [
    "v_laptop_data.sample(10)"
   ]
  },
  {
   "cell_type": "markdown",
   "id": "d4f4a969",
   "metadata": {},
   "source": [
    "##### discount price becoms some numbers to distinguesh"
   ]
  },
  {
   "cell_type": "markdown",
   "id": "ffd8c375",
   "metadata": {},
   "source": [
    "#### one hot encoding"
   ]
  },
  {
   "cell_type": "code",
   "execution_count": 47,
   "id": "2a736aa9",
   "metadata": {},
   "outputs": [
    {
     "data": {
      "text/html": [
       "<div>\n",
       "<style scoped>\n",
       "    .dataframe tbody tr th:only-of-type {\n",
       "        vertical-align: middle;\n",
       "    }\n",
       "\n",
       "    .dataframe tbody tr th {\n",
       "        vertical-align: top;\n",
       "    }\n",
       "\n",
       "    .dataframe thead th {\n",
       "        text-align: right;\n",
       "    }\n",
       "</style>\n",
       "<table border=\"1\" class=\"dataframe\">\n",
       "  <thead>\n",
       "    <tr style=\"text-align: right;\">\n",
       "      <th></th>\n",
       "      <th>display_size</th>\n",
       "      <th>discount_price</th>\n",
       "      <th>old_price</th>\n",
       "      <th>brand_Acer</th>\n",
       "      <th>brand_Apple</th>\n",
       "      <th>brand_Asus</th>\n",
       "      <th>brand_Dell</th>\n",
       "      <th>brand_HP</th>\n",
       "      <th>brand_Huawei</th>\n",
       "      <th>brand_Lenovo</th>\n",
       "      <th>...</th>\n",
       "      <th>disk_space_ 256 GB SSD (Super Raid)/1 TB HDD</th>\n",
       "      <th>disk_space_ 256 GB SSD/1 TB HDD</th>\n",
       "      <th>disk_space_ 32 GB (eMMC)</th>\n",
       "      <th>disk_space_ 500 GB HDD</th>\n",
       "      <th>disk_space_ 512 GB (PCIe Flash)</th>\n",
       "      <th>disk_space_ 512 GB NVMe M.2 SSD</th>\n",
       "      <th>disk_space_ 512 GB PCIe NVMe M.2 SSD</th>\n",
       "      <th>disk_space_ 512 GB SSD</th>\n",
       "      <th>disk_space_ 64 GB (eMMC)</th>\n",
       "      <th>disk_space_ 8 GB (Cache Flash)/1 TB HDD</th>\n",
       "    </tr>\n",
       "  </thead>\n",
       "  <tbody>\n",
       "    <tr>\n",
       "      <th>0</th>\n",
       "      <td>14.0</td>\n",
       "      <td>9</td>\n",
       "      <td>1259.0</td>\n",
       "      <td>0</td>\n",
       "      <td>0</td>\n",
       "      <td>0</td>\n",
       "      <td>0</td>\n",
       "      <td>1</td>\n",
       "      <td>0</td>\n",
       "      <td>0</td>\n",
       "      <td>...</td>\n",
       "      <td>0</td>\n",
       "      <td>0</td>\n",
       "      <td>0</td>\n",
       "      <td>0</td>\n",
       "      <td>0</td>\n",
       "      <td>0</td>\n",
       "      <td>0</td>\n",
       "      <td>0</td>\n",
       "      <td>1</td>\n",
       "      <td>0</td>\n",
       "    </tr>\n",
       "    <tr>\n",
       "      <th>1</th>\n",
       "      <td>14.0</td>\n",
       "      <td>26</td>\n",
       "      <td>2099.0</td>\n",
       "      <td>0</td>\n",
       "      <td>0</td>\n",
       "      <td>0</td>\n",
       "      <td>0</td>\n",
       "      <td>0</td>\n",
       "      <td>0</td>\n",
       "      <td>1</td>\n",
       "      <td>...</td>\n",
       "      <td>0</td>\n",
       "      <td>0</td>\n",
       "      <td>0</td>\n",
       "      <td>0</td>\n",
       "      <td>0</td>\n",
       "      <td>0</td>\n",
       "      <td>0</td>\n",
       "      <td>0</td>\n",
       "      <td>0</td>\n",
       "      <td>0</td>\n",
       "    </tr>\n",
       "    <tr>\n",
       "      <th>2</th>\n",
       "      <td>14.0</td>\n",
       "      <td>55</td>\n",
       "      <td>3799.0</td>\n",
       "      <td>0</td>\n",
       "      <td>0</td>\n",
       "      <td>0</td>\n",
       "      <td>0</td>\n",
       "      <td>0</td>\n",
       "      <td>1</td>\n",
       "      <td>0</td>\n",
       "      <td>...</td>\n",
       "      <td>0</td>\n",
       "      <td>0</td>\n",
       "      <td>0</td>\n",
       "      <td>0</td>\n",
       "      <td>0</td>\n",
       "      <td>0</td>\n",
       "      <td>0</td>\n",
       "      <td>0</td>\n",
       "      <td>0</td>\n",
       "      <td>0</td>\n",
       "    </tr>\n",
       "    <tr>\n",
       "      <th>3</th>\n",
       "      <td>15.6</td>\n",
       "      <td>26</td>\n",
       "      <td>1849.0</td>\n",
       "      <td>0</td>\n",
       "      <td>0</td>\n",
       "      <td>0</td>\n",
       "      <td>1</td>\n",
       "      <td>0</td>\n",
       "      <td>0</td>\n",
       "      <td>0</td>\n",
       "      <td>...</td>\n",
       "      <td>0</td>\n",
       "      <td>0</td>\n",
       "      <td>0</td>\n",
       "      <td>0</td>\n",
       "      <td>0</td>\n",
       "      <td>0</td>\n",
       "      <td>0</td>\n",
       "      <td>0</td>\n",
       "      <td>0</td>\n",
       "      <td>0</td>\n",
       "    </tr>\n",
       "    <tr>\n",
       "      <th>4</th>\n",
       "      <td>15.6</td>\n",
       "      <td>41</td>\n",
       "      <td>3149.0</td>\n",
       "      <td>0</td>\n",
       "      <td>0</td>\n",
       "      <td>1</td>\n",
       "      <td>0</td>\n",
       "      <td>0</td>\n",
       "      <td>0</td>\n",
       "      <td>0</td>\n",
       "      <td>...</td>\n",
       "      <td>0</td>\n",
       "      <td>0</td>\n",
       "      <td>0</td>\n",
       "      <td>0</td>\n",
       "      <td>0</td>\n",
       "      <td>0</td>\n",
       "      <td>0</td>\n",
       "      <td>0</td>\n",
       "      <td>0</td>\n",
       "      <td>0</td>\n",
       "    </tr>\n",
       "  </tbody>\n",
       "</table>\n",
       "<p>5 rows × 254 columns</p>\n",
       "</div>"
      ],
      "text/plain": [
       "   display_size  discount_price  old_price  brand_Acer  brand_Apple  \\\n",
       "0          14.0               9     1259.0           0            0   \n",
       "1          14.0              26     2099.0           0            0   \n",
       "2          14.0              55     3799.0           0            0   \n",
       "3          15.6              26     1849.0           0            0   \n",
       "4          15.6              41     3149.0           0            0   \n",
       "\n",
       "   brand_Asus  brand_Dell  brand_HP  brand_Huawei  brand_Lenovo  ...  \\\n",
       "0           0           0         1             0             0  ...   \n",
       "1           0           0         0             0             1  ...   \n",
       "2           0           0         0             1             0  ...   \n",
       "3           0           1         0             0             0  ...   \n",
       "4           1           0         0             0             0  ...   \n",
       "\n",
       "   disk_space_ 256 GB SSD (Super Raid)/1 TB HDD  \\\n",
       "0                                             0   \n",
       "1                                             0   \n",
       "2                                             0   \n",
       "3                                             0   \n",
       "4                                             0   \n",
       "\n",
       "   disk_space_ 256 GB SSD/1 TB HDD  disk_space_ 32 GB (eMMC)  \\\n",
       "0                                0                         0   \n",
       "1                                0                         0   \n",
       "2                                0                         0   \n",
       "3                                0                         0   \n",
       "4                                0                         0   \n",
       "\n",
       "   disk_space_ 500 GB HDD  disk_space_ 512 GB (PCIe Flash)  \\\n",
       "0                       0                                0   \n",
       "1                       0                                0   \n",
       "2                       0                                0   \n",
       "3                       0                                0   \n",
       "4                       0                                0   \n",
       "\n",
       "   disk_space_ 512 GB NVMe M.2 SSD  disk_space_ 512 GB PCIe NVMe M.2 SSD  \\\n",
       "0                                0                                     0   \n",
       "1                                0                                     0   \n",
       "2                                0                                     0   \n",
       "3                                0                                     0   \n",
       "4                                0                                     0   \n",
       "\n",
       "   disk_space_ 512 GB SSD  disk_space_ 64 GB (eMMC)  \\\n",
       "0                       0                         1   \n",
       "1                       0                         0   \n",
       "2                       0                         0   \n",
       "3                       0                         0   \n",
       "4                       0                         0   \n",
       "\n",
       "   disk_space_ 8 GB (Cache Flash)/1 TB HDD  \n",
       "0                                        0  \n",
       "1                                        0  \n",
       "2                                        0  \n",
       "3                                        0  \n",
       "4                                        0  \n",
       "\n",
       "[5 rows x 254 columns]"
      ]
     },
     "execution_count": 47,
     "metadata": {},
     "output_type": "execute_result"
    }
   ],
   "source": [
    "dummy_laptop_data = pd.get_dummies(v_laptop_data)\n",
    "dummy_laptop_data.head()"
   ]
  },
  {
   "cell_type": "code",
   "execution_count": 49,
   "id": "3f0d50cf",
   "metadata": {},
   "outputs": [
    {
     "data": {
      "text/plain": [
       "(205, 254)"
      ]
     },
     "execution_count": 49,
     "metadata": {},
     "output_type": "execute_result"
    }
   ],
   "source": [
    "dummy_laptop_data.shape"
   ]
  },
  {
   "cell_type": "code",
   "execution_count": 50,
   "id": "d9ae4584",
   "metadata": {},
   "outputs": [],
   "source": [
    "x= dummy_laptop_data.drop('old_price',axis=1)\n",
    "y=dummy_laptop_data['old_price']"
   ]
  },
  {
   "cell_type": "code",
   "execution_count": 51,
   "id": "681b41fa",
   "metadata": {},
   "outputs": [],
   "source": [
    "from sklearn.model_selection import train_test_split\n",
    "x_train,x_test,y_train,y_test = train_test_split(x,y,test_size=0.2)"
   ]
  },
  {
   "cell_type": "code",
   "execution_count": 52,
   "id": "7fd41911",
   "metadata": {},
   "outputs": [
    {
     "data": {
      "text/plain": [
       "((164, 253), (41, 253), (164,), (41,))"
      ]
     },
     "execution_count": 52,
     "metadata": {},
     "output_type": "execute_result"
    }
   ],
   "source": [
    "x_train.shape, x_test.shape,y_train.shape,y_test.shape"
   ]
  },
  {
   "cell_type": "markdown",
   "id": "09ff05f9",
   "metadata": {},
   "source": [
    "# LEANER REGRESSION"
   ]
  },
  {
   "cell_type": "code",
   "execution_count": 55,
   "id": "7cc0d7ad",
   "metadata": {},
   "outputs": [
    {
     "data": {
      "text/plain": [
       "LinearRegression()"
      ]
     },
     "execution_count": 55,
     "metadata": {},
     "output_type": "execute_result"
    }
   ],
   "source": [
    "from sklearn.linear_model import LinearRegression\n",
    "from sklearn.metrics import r2_score\n",
    "\n",
    "linear_regression = LinearRegression()\n",
    "linear_regression.fit(x_train,y_train)\n",
    "#LinearRegression(copy_x=True,fit_intercept=True, n_jobs=None, normalize = False)"
   ]
  },
  {
   "cell_type": "code",
   "execution_count": 58,
   "id": "7cf60d81",
   "metadata": {},
   "outputs": [
    {
     "data": {
      "text/plain": [
       "0.9993509466789375"
      ]
     },
     "execution_count": 58,
     "metadata": {},
     "output_type": "execute_result"
    }
   ],
   "source": [
    "linear_regression.score(x_train,y_train)"
   ]
  },
  {
   "cell_type": "markdown",
   "id": "ff3e4704",
   "metadata": {},
   "source": [
    "Performing on test data"
   ]
  },
  {
   "cell_type": "code",
   "execution_count": 59,
   "id": "e2dd4d3d",
   "metadata": {},
   "outputs": [
    {
     "data": {
      "text/plain": [
       "-1.2304940065653627e+18"
      ]
     },
     "execution_count": 59,
     "metadata": {},
     "output_type": "execute_result"
    }
   ],
   "source": [
    "y_pred = linear_regression.predict(x_test)\n",
    "r2_score(y_test,y_pred)"
   ]
  },
  {
   "cell_type": "markdown",
   "id": "d11b43be",
   "metadata": {},
   "source": [
    "very bad aproch bcz we shouold'nt use leaner regression for prices\n",
    "and we considerd only price not involved brand so result is like this."
   ]
  },
  {
   "cell_type": "code",
   "execution_count": 61,
   "id": "ecca62f6",
   "metadata": {},
   "outputs": [
    {
     "data": {
      "image/png": "[encoded data removed]",
      "text/plain": [
       "<Figure size 864x576 with 1 Axes>"
      ]
     },
     "metadata": {
      "needs_background": "light"
     },
     "output_type": "display_data"
    }
   ],
   "source": [
    "plt.figure(figsize = (12,8))\n",
    "plt.scatter(y_test,y_pred)\n",
    "\n",
    "plt.xlabel('Actual value')\n",
    "plt.ylabel('Predicted Value')\n",
    "\n",
    "plt.show()"
   ]
  },
  {
   "cell_type": "code",
   "execution_count": null,
   "id": "9cb9625c",
   "metadata": {},
   "outputs": [],
   "source": []
  }
 ],
 "metadata": {
  "kernelspec": {
   "display_name": "Python 3 (ipykernel)",
   "language": "python",
   "name": "python3"
  },
  "language_info": {
   "codemirror_mode": {
    "name": "ipython",
    "version": 3
   },
   "file_extension": ".py",
   "mimetype": "text/x-python",
   "name": "python",
   "nbconvert_exporter": "python",
   "pygments_lexer": "ipython3",
   "version": "3.9.12"
  }
 },
 "nbformat": 4,
 "nbformat_minor": 5
}
